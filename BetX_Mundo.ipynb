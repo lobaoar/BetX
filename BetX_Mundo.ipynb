{
 "cells": [
  {
   "cell_type": "code",
   "execution_count": null,
   "id": "37ee76b7",
   "metadata": {},
   "outputs": [],
   "source": [
    "import pandas as pd\n",
    "import warnings\n",
    "import ipywidgets as widgets\n",
    "from IPython.display import display\n",
    "warnings.filterwarnings('ignore')\n",
    "#import tkinter as tk\n",
    "#from tkinter import ttk"
   ]
  },
  {
   "cell_type": "markdown",
   "id": "b287ce23",
   "metadata": {},
   "source": [
    "# Import Brasileirão Série A Hist - 2023"
   ]
  },
  {
   "cell_type": "code",
   "execution_count": null,
   "id": "004a350e",
   "metadata": {},
   "outputs": [],
   "source": [
    "# URL of the Excel file on GitHub\n",
    "github_url_Brazil       = 'https://github.com/futpythontrader/YouTube/raw/main/Bases_de_Dados_(2022-2024)/Brazil%20Serie%20A_2023.xlsx'\n",
    "github_url_Premier      = 'https://github.com/futpythontrader/YouTube/raw/main/Bases_de_Dados_(2022-2024)/England%20Premier%20League_20232024.xlsx'\n",
    "github_url_Premier_hist = 'https://github.com/futpythontrader/YouTube/raw/main/Bases_de_Dados_(2022-2024)/England%20Premier%20League_20222023.xlsx'\n",
    "github_url_La_Liga_hist = 'https://github.com/futpythontrader/YouTube/raw/main/Bases_de_Dados_(2022-2024)/Spain%20La%20Liga_20222023.xlsx'\n",
    "github_url_La_Liga      = 'https://github.com/futpythontrader/YouTube/raw/main/Bases_de_Dados_(2022-2024)/Spain%20La%20Liga_20232024.xlsx'\n",
    "\n",
    "# Specify the engine as 'openpyxl'\n",
    "try:\n",
    "    df = pd.read_excel(github_url_Brazil, engine='openpyxl')\n",
    "    print(df)\n",
    "except Exception as e:\n",
    "    print(f\"Error reading the file: {e}\")\n"
   ]
  },
  {
   "cell_type": "code",
   "execution_count": null,
   "id": "ab5b3412",
   "metadata": {},
   "outputs": [],
   "source": [
    "# URL of the Excel file on GitHub\n",
    "github_url_Brazil       = 'https://github.com/futpythontrader/YouTube/raw/main/Bases_de_Dados_(2022-2024)/Brazil%20Serie%20A_2023.xlsx'\n",
    "github_url_Premier      = 'https://github.com/futpythontrader/YouTube/raw/main/Bases_de_Dados_(2022-2024)/England%20Premier%20League_20232024.xlsx'\n",
    "github_url_Premier_hist = 'https://github.com/futpythontrader/YouTube/raw/main/Bases_de_Dados_(2022-2024)/England%20Premier%20League_20222023.xlsx'\n",
    "github_url_La_Liga_hist = 'https://github.com/futpythontrader/YouTube/raw/main/Bases_de_Dados_(2022-2024)/Spain%20La%20Liga_20222023.xlsx'\n",
    "github_url_La_Liga      = 'https://github.com/futpythontrader/YouTube/raw/main/Bases_de_Dados_(2022-2024)/Spain%20La%20Liga_20232024.xlsx'\n",
    "\n",
    "# Specify the engine as 'openpyxl'\n",
    "try:\n",
    "    df_1 = pd.read_excel(github_url_Premier, engine='openpyxl')\n",
    "    print(df_1)\n",
    "except Exception as e:\n",
    "    print(f\"Error reading the file: {e}\")\n"
   ]
  },
  {
   "cell_type": "code",
   "execution_count": null,
   "id": "6a502e7d",
   "metadata": {},
   "outputs": [],
   "source": [
    "# URL of the Excel file on GitHub\n",
    "github_url_Brazil       = 'https://github.com/futpythontrader/YouTube/raw/main/Bases_de_Dados_(2022-2024)/Brazil%20Serie%20A_2023.xlsx'\n",
    "github_url_Premier      = 'https://github.com/futpythontrader/YouTube/raw/main/Bases_de_Dados_(2022-2024)/England%20Premier%20League_20232024.xlsx'\n",
    "github_url_Premier_hist = 'https://github.com/futpythontrader/YouTube/raw/main/Bases_de_Dados_(2022-2024)/England%20Premier%20League_20222023.xlsx'\n",
    "github_url_La_Liga_hist = 'https://github.com/futpythontrader/YouTube/raw/main/Bases_de_Dados_(2022-2024)/Spain%20La%20Liga_20222023.xlsx'\n",
    "github_url_La_Liga      = 'https://github.com/futpythontrader/YouTube/raw/main/Bases_de_Dados_(2022-2024)/Spain%20La%20Liga_20232024.xlsx'\n",
    "\n",
    "# Specify the engine as 'openpyxl'\n",
    "try:\n",
    "    df_2 = pd.read_excel(github_url_Premier_hist, engine='openpyxl')\n",
    "    print(df_2)\n",
    "except Exception as e:\n",
    "    print(f\"Error reading the file: {e}\")\n"
   ]
  },
  {
   "cell_type": "code",
   "execution_count": null,
   "id": "6af1122e",
   "metadata": {},
   "outputs": [],
   "source": [
    "# URL of the Excel file on GitHub\n",
    "github_url_Brazil       = 'https://github.com/futpythontrader/YouTube/raw/main/Bases_de_Dados_(2022-2024)/Brazil%20Serie%20A_2023.xlsx'\n",
    "github_url_Premier      = 'https://github.com/futpythontrader/YouTube/raw/main/Bases_de_Dados_(2022-2024)/England%20Premier%20League_20232024.xlsx'\n",
    "github_url_Premier_hist = 'https://github.com/futpythontrader/YouTube/raw/main/Bases_de_Dados_(2022-2024)/England%20Premier%20League_20222023.xlsx'\n",
    "github_url_La_Liga_hist = 'https://github.com/futpythontrader/YouTube/raw/main/Bases_de_Dados_(2022-2024)/Spain%20La%20Liga_20222023.xlsx'\n",
    "github_url_La_Liga      = 'https://github.com/futpythontrader/YouTube/raw/main/Bases_de_Dados_(2022-2024)/Spain%20La%20Liga_20232024.xlsx'\n",
    "\n",
    "# Specify the engine as 'openpyxl'\n",
    "try:\n",
    "    df_3 = pd.read_excel(github_url_La_Liga_hist, engine='openpyxl')\n",
    "    print(df_3)\n",
    "except Exception as e:\n",
    "    print(f\"Error reading the file: {e}\")\n"
   ]
  },
  {
   "cell_type": "code",
   "execution_count": null,
   "id": "249e4652",
   "metadata": {},
   "outputs": [],
   "source": [
    "# URL of the Excel file on GitHub\n",
    "github_url_Brazil       = 'https://github.com/futpythontrader/YouTube/raw/main/Bases_de_Dados_(2022-2024)/Brazil%20Serie%20A_2023.xlsx'\n",
    "github_url_Premier      = 'https://github.com/futpythontrader/YouTube/raw/main/Bases_de_Dados_(2022-2024)/England%20Premier%20League_20232024.xlsx'\n",
    "github_url_Premier_hist = 'https://github.com/futpythontrader/YouTube/raw/main/Bases_de_Dados_(2022-2024)/England%20Premier%20League_20222023.xlsx'\n",
    "github_url_La_Liga_hist = 'https://github.com/futpythontrader/YouTube/raw/main/Bases_de_Dados_(2022-2024)/Spain%20La%20Liga_20222023.xlsx'\n",
    "github_url_La_Liga      = 'https://github.com/futpythontrader/YouTube/raw/main/Bases_de_Dados_(2022-2024)/Spain%20La%20Liga_20232024.xlsx'\n",
    "\n",
    "# Specify the engine as 'openpyxl'\n",
    "try:\n",
    "    df_4 = pd.read_excel(github_url_La_Liga, engine='openpyxl')\n",
    "    print(df_4)\n",
    "except Exception as e:\n",
    "    print(f\"Error reading the file: {e}\")\n"
   ]
  },
  {
   "cell_type": "code",
   "execution_count": null,
   "id": "cb7ae0a5",
   "metadata": {},
   "outputs": [],
   "source": [
    "Mundo_Hist = pd.concat([df,df_1,df_2,df_3,df_4])\n",
    "# setting pandas print options\n",
    "pd.set_option('display.max_rows', 500)\n",
    "pd.set_option('display.max_columns', 500)\n",
    "pd.set_option('display.width', 1000)\n",
    "pd.set_option('display.max_colwidth', 100)\n",
    "Mundo_Hist.tail()"
   ]
  },
  {
   "cell_type": "code",
   "execution_count": null,
   "id": "d075b906",
   "metadata": {
    "scrolled": true
   },
   "outputs": [],
   "source": [
    "df = Mundo_Hist\n",
    "df.head()"
   ]
  },
  {
   "cell_type": "code",
   "execution_count": null,
   "id": "0e6c09fc",
   "metadata": {
    "scrolled": true
   },
   "outputs": [],
   "source": [
    "df = df[['Id_Jogo','League', 'Season','Home','Away','FT_Corners_H','FT_Corners_A','FT_TotalCorners']]\n",
    "df.columns = ['Id_Jogo','Liga','Temporada','Home','Away','FT_Cantos_H','FT_Cantos_A','FT_Cantos_Total']\n",
    "df.dropna(inplace = True)\n",
    "# Ajustando o Índice\n",
    "df.reset_index(inplace=True, drop=True)\n",
    "df.index = df.index.set_names(['Nº'])\n",
    "df = df.rename(index=lambda x: x + 1)\n",
    "df"
   ]
  },
  {
   "cell_type": "markdown",
   "id": "c578659c",
   "metadata": {},
   "source": [
    "# Calc Corners"
   ]
  },
  {
   "cell_type": "code",
   "execution_count": null,
   "id": "e7c41301",
   "metadata": {},
   "outputs": [],
   "source": [
    "df_FT = df[['Liga','Id_Jogo','Home','Away','FT_Cantos_H','FT_Cantos_A','FT_Cantos_Total']]\n",
    "\n",
    "# Média\n",
    "df_FT['Media_Cantos_Marcados_Home'] = df_FT.groupby('Home')['FT_Cantos_H'].rolling(window=5, min_periods=1).mean().reset_index(0,drop=True)\n",
    "df_FT['Media_Cantos_Sofridos_Home'] = df_FT.groupby('Home')['FT_Cantos_A'].rolling(window=5, min_periods=1).mean().reset_index(0,drop=True)\n",
    "df_FT['Media_Cantos_Total_Home'] = df_FT.groupby('Home')['FT_Cantos_Total'].rolling(window=5, min_periods=1).mean().reset_index(0,drop=True)\n",
    "\n",
    "# Desvio Padrão\n",
    "df_FT['DesvP_Cantos_Marcados_Home'] = df_FT.groupby('Home')['FT_Cantos_H'].rolling(window=5, min_periods=1).std().reset_index(0,drop=True)\n",
    "df_FT['DesvP_Cantos_Sofridos_Home'] = df_FT.groupby('Home')['FT_Cantos_A'].rolling(window=5, min_periods=1).std().reset_index(0,drop=True)\n",
    "df_FT['DesvP_Cantos_Total_Home'] = df_FT.groupby('Home')['FT_Cantos_Total'].rolling(window=5, min_periods=1).std().reset_index(0,drop=True)\n",
    "\n",
    "# Coeficiente de Variação\n",
    "df_FT['CV_Cantos_Marcados_Home'] = df_FT['DesvP_Cantos_Marcados_Home'] / df_FT['Media_Cantos_Marcados_Home']\n",
    "df_FT['CV_Cantos_Sofridos_Home'] = df_FT['DesvP_Cantos_Sofridos_Home'] / df_FT['Media_Cantos_Sofridos_Home']\n",
    "df_FT['CV_Cantos_Total_Home'] = df_FT['DesvP_Cantos_Total_Home'] / df_FT['Media_Cantos_Total_Home']\n",
    "\n",
    "# Média\n",
    "df_FT['Media_Cantos_Marcados_Away'] = df_FT.groupby('Away')['FT_Cantos_A'].rolling(window=5, min_periods=1).mean().reset_index(0,drop=True)\n",
    "df_FT['Media_Cantos_Sofridos_Away'] = df_FT.groupby('Away')['FT_Cantos_H'].rolling(window=5, min_periods=1).mean().reset_index(0,drop=True)\n",
    "df_FT['Media_Cantos_Total_Away'] = df_FT.groupby('Away')['FT_Cantos_Total'].rolling(window=5, min_periods=1).mean().reset_index(0,drop=True)\n",
    "\n",
    "# Desvio Padrão\n",
    "df_FT['DesvP_Cantos_Marcados_Away'] = df_FT.groupby('Away')['FT_Cantos_A'].rolling(window=5, min_periods=1).std().reset_index(0,drop=True)\n",
    "df_FT['DesvP_Cantos_Sofridos_Away'] = df_FT.groupby('Away')['FT_Cantos_H'].rolling(window=5, min_periods=1).std().reset_index(0,drop=True)\n",
    "df_FT['DesvP_Cantos_Total_Away'] = df_FT.groupby('Away')['FT_Cantos_Total'].rolling(window=5, min_periods=1).std().reset_index(0,drop=True)\n",
    "\n",
    "# Coeficiente de Variação\n",
    "df_FT['CV_Cantos_Marcados_Away'] = df_FT['DesvP_Cantos_Marcados_Away'] / df_FT['Media_Cantos_Marcados_Away']\n",
    "df_FT['CV_Cantos_Sofridos_Away'] = df_FT['DesvP_Cantos_Sofridos_Away'] / df_FT['Media_Cantos_Sofridos_Away']\n",
    "df_FT['CV_Cantos_Total_Away'] = df_FT['DesvP_Cantos_Total_Away'] / df_FT['Media_Cantos_Total_Away']"
   ]
  },
  {
   "cell_type": "code",
   "execution_count": null,
   "id": "a7c47136",
   "metadata": {},
   "outputs": [],
   "source": [
    "df_FT = df_FT[['Liga','Id_Jogo','Home','Away','FT_Cantos_H','FT_Cantos_A','FT_Cantos_Total',\n",
    " 'Media_Cantos_Marcados_Home','CV_Cantos_Marcados_Home','Media_Cantos_Sofridos_Home','CV_Cantos_Sofridos_Home',\n",
    " 'Media_Cantos_Total_Home','CV_Cantos_Total_Home',\n",
    " 'Media_Cantos_Marcados_Away','CV_Cantos_Marcados_Away','Media_Cantos_Sofridos_Away','CV_Cantos_Sofridos_Away',\n",
    " 'Media_Cantos_Total_Away','CV_Cantos_Total_Away']]\n",
    "df_FT"
   ]
  },
  {
   "cell_type": "code",
   "execution_count": null,
   "id": "36be2e38",
   "metadata": {},
   "outputs": [],
   "source": [
    "df_FT.dropna(inplace = True)\n",
    "# Ajustando o Índice\n",
    "df_FT.reset_index(inplace=True, drop=True)\n",
    "df_FT.index = df_FT.index.set_names(['Nº'])\n",
    "df_FT = df_FT.rename(index=lambda x: x + 1)\n",
    "df_FT"
   ]
  },
  {
   "cell_type": "code",
   "execution_count": null,
   "id": "0c03b2a7",
   "metadata": {
    "scrolled": true
   },
   "outputs": [],
   "source": [
    "df_FT_Home = df_FT[['Liga','Home','Media_Cantos_Marcados_Home','CV_Cantos_Marcados_Home',\n",
    "                    'Media_Cantos_Sofridos_Home','CV_Cantos_Sofridos_Home',\n",
    "                    'Media_Cantos_Total_Home','CV_Cantos_Total_Home']]\n",
    "df_FT_Home = df_FT_Home.groupby('Home').tail(1)\n",
    "df_FT_Home = df_FT_Home.sort_values(by=['Home'])\n",
    "df_FT_Home.reset_index(inplace=True, drop=True)\n",
    "df_FT_Home.index = df_FT_Home.index.set_names(['Nº'])\n",
    "df_FT_Home = df_FT_Home.rename(index=lambda x: x + 1)\n",
    "df_FT_Home"
   ]
  },
  {
   "cell_type": "code",
   "execution_count": null,
   "id": "4b4e57e0",
   "metadata": {},
   "outputs": [],
   "source": [
    "df_FT_Away = df_FT[['Liga','Away','Media_Cantos_Marcados_Away','CV_Cantos_Marcados_Away',\n",
    "                    'Media_Cantos_Sofridos_Away','CV_Cantos_Sofridos_Away',\n",
    "                    'Media_Cantos_Total_Away','CV_Cantos_Total_Away']]\n",
    "df_FT_Away = df_FT_Away.groupby('Away').tail(1)\n",
    "df_FT_Away = df_FT_Away.sort_values(by=['Away'])\n",
    "df_FT_Away.reset_index(inplace=True, drop=True)\n",
    "df_FT_Away.index = df_FT_Away.index.set_names(['Nº'])\n",
    "df_FT_Away = df_FT_Away.rename(index=lambda x: x + 1)\n",
    "df_FT_Away"
   ]
  },
  {
   "cell_type": "markdown",
   "id": "659b20e0",
   "metadata": {},
   "source": [
    "# Import Brasileirão Série A - Games"
   ]
  },
  {
   "cell_type": "code",
   "execution_count": null,
   "id": "0695315d",
   "metadata": {},
   "outputs": [],
   "source": [
    "Brasil_Games = \"https://github.com/lobaoar/BetX/raw/main/Brasileirao_SerieA.xlsx\"\n",
    "\n",
    "\n",
    "# Read the Excel file from the URL\n",
    "Brasil_Games = pd.read_excel(Brasil_Games)\n",
    "\n",
    "# Display the DataFrame\n",
    "Brasil_Games.head()"
   ]
  },
  {
   "cell_type": "code",
   "execution_count": null,
   "id": "5c114f14",
   "metadata": {},
   "outputs": [],
   "source": [
    "Premier_Games = \"https://github.com/lobaoar/BetX/raw/main/Premier_Games.xlsx\"\n",
    "\n",
    "\n",
    "# Read the Excel file from the URL\n",
    "Premier_Games = pd.read_excel(Premier_Games)\n",
    "\n",
    "# Display the DataFrame\n",
    "Premier_Games.head()"
   ]
  },
  {
   "cell_type": "code",
   "execution_count": null,
   "id": "61c226db",
   "metadata": {},
   "outputs": [],
   "source": [
    "La_Liga_Games = \"https://github.com/lobaoar/BetX/raw/main/LaLiga_Games.xlsx\"\n",
    "\n",
    "\n",
    "# Read the Excel file from the URL\n",
    "La_Liga_Games = pd.read_excel(La_Liga_Games)\n",
    "\n",
    "# Display the DataFrame\n",
    "La_Liga_Games.head()"
   ]
  },
  {
   "cell_type": "code",
   "execution_count": null,
   "id": "87a2d059",
   "metadata": {},
   "outputs": [],
   "source": [
    "Games_Mundo = pd.concat([Brasil_Games,Premier_Games,La_Liga_Games])\n",
    "# setting pandas print options\n",
    "pd.set_option('display.max_rows', 500)\n",
    "pd.set_option('display.max_columns', 500)\n",
    "pd.set_option('display.width', 1000)\n",
    "pd.set_option('display.max_colwidth', 100)\n",
    "Games_Mundo.tail()"
   ]
  },
  {
   "cell_type": "code",
   "execution_count": null,
   "id": "def4d084",
   "metadata": {},
   "outputs": [],
   "source": [
    "print(\"Please enter the number of the next round - Brazil.\")\n",
    "print(\"Press enter after input the number\")\n",
    "input_serie_a = input()\n",
    "input_serie_a = int(input_serie_a)\n",
    "print(\"Please enter the number of the next round - La Liga.\")\n",
    "print(\"Press enter after input the number\")\n",
    "input_la_liga = input()\n",
    "input_la_liga = int(input_la_liga)\n",
    "print(\"Please enter the number of the next round - Premier League.\")\n",
    "print(\"Press enter after input the number\")\n",
    "input_premier_league = input()\n",
    "input_premier_league = int(input_premier_league)"
   ]
  },
  {
   "cell_type": "code",
   "execution_count": null,
   "id": "d98554f4",
   "metadata": {},
   "outputs": [],
   "source": [
    "filtered_la_liga = Games_Mundo[(Games_Mundo['League'] == 'La Liga') & (Games_Mundo['Round'] == input_la_liga)]\n",
    "filtered_premier_league = Games_Mundo[(Games_Mundo['League'] == 'Premier') & (Games_Mundo['Round'] == input_premier_league)]\n",
    "filtered_serie_a = Games_Mundo[(Games_Mundo['League'] == 'Serie A Brasil') & (Games_Mundo['Round'] == input_serie_a)]"
   ]
  },
  {
   "cell_type": "code",
   "execution_count": null,
   "id": "e2e4c264",
   "metadata": {},
   "outputs": [],
   "source": [
    "df_round = pd.concat([filtered_la_liga,filtered_premier_league,filtered_serie_a])\n",
    "# setting pandas print options\n",
    "pd.set_option('display.max_rows', 500)\n",
    "pd.set_option('display.max_columns', 500)\n",
    "pd.set_option('display.width', 1000)\n",
    "pd.set_option('display.max_colwidth', 100)\n",
    "df_round.head()"
   ]
  },
  {
   "cell_type": "code",
   "execution_count": null,
   "id": "a14c1ae7",
   "metadata": {},
   "outputs": [],
   "source": [
    "merged_df_Home = df_round.merge(df_FT_Home, on='Home', how='inner')\n",
    "merged_df_Home = merged_df_Home[['League', 'Round','Home','Media_Cantos_Marcados_Home',\n",
    "                               'CV_Cantos_Marcados_Home','Media_Cantos_Sofridos_Home',\n",
    "                               'CV_Cantos_Sofridos_Home']]\n",
    "merged_df_Home.head()"
   ]
  },
  {
   "cell_type": "code",
   "execution_count": null,
   "id": "c688d4eb",
   "metadata": {},
   "outputs": [],
   "source": [
    "merged_df_Away = df_round.merge(df_FT_Away, on='Away', how='inner')\n",
    "merged_df_Away = merged_df_Away[['League','Round','Away','Media_Cantos_Marcados_Away',\n",
    "                                 'CV_Cantos_Marcados_Away','Media_Cantos_Sofridos_Away',\n",
    "                                 'CV_Cantos_Sofridos_Away'\n",
    "]]\n",
    "merged_df_Away.head()"
   ]
  },
  {
   "cell_type": "code",
   "execution_count": null,
   "id": "a467cdd5",
   "metadata": {},
   "outputs": [],
   "source": [
    "merged_df = df_round.merge(df_FT_Away, on='Away').merge(df_FT_Home, on='Home')\n",
    "merged_df = merged_df[['League','Round','Home','Media_Cantos_Marcados_Home',\n",
    "                               'CV_Cantos_Marcados_Home','Media_Cantos_Sofridos_Home',\n",
    "                               'CV_Cantos_Sofridos_Home','Away','Media_Cantos_Marcados_Away',\n",
    "                                 'CV_Cantos_Marcados_Away','Media_Cantos_Sofridos_Away',\n",
    "                                 'CV_Cantos_Sofridos_Away'\n",
    "]]\n",
    "merged_df"
   ]
  },
  {
   "cell_type": "code",
   "execution_count": null,
   "id": "6452370e",
   "metadata": {},
   "outputs": [],
   "source": [
    "df_Final = merged_df[(merged_df.CV_Cantos_Marcados_Home <= 0.5) & (merged_df.CV_Cantos_Marcados_Away <= 0.5)]\n",
    "df_Final"
   ]
  },
  {
   "cell_type": "raw",
   "id": "3a65706e",
   "metadata": {},
   "source": [
    "# Corner_Home:\n",
    "se Media_Cantos_Marcados_Home>Media_Cantos_Sofridos_Away entao Media_Cantos_Sofridos_Away\n",
    "se Media_Cantos_Marcados_Home<Media_Cantos_Sofridos_Away entao Media_Cantos_Marcados_Home\n",
    "\n",
    "Corner_Away:\n",
    "se Media_Cantos_Marcados_Away>Media_Cantos_Sofridos_Home entao Media_Cantos_Sofridos_Home\n",
    "se Media_Cantos_Marcados_Away<Media_Cantos_Sofridos_Home entao Media_Cantos_Marcados_Away\n",
    "\n",
    "Corner_Bet = Corner_Home + Corner_Away"
   ]
  },
  {
   "cell_type": "code",
   "execution_count": null,
   "id": "beb1546f",
   "metadata": {
    "scrolled": true
   },
   "outputs": [],
   "source": [
    "df_Final['Corner_Home'] = df_Final.apply(lambda row: min(row['Media_Cantos_Marcados_Home'], row['Media_Cantos_Sofridos_Away']), axis=1)\n",
    "\n",
    "# Calcular Corner_Away\n",
    "df_Final['Corner_Away'] = df_Final.apply(lambda row: min(row['Media_Cantos_Marcados_Away'], row['Media_Cantos_Sofridos_Home']), axis=1)\n",
    "\n",
    "# Calcular Corner_Bet\n",
    "df_Final['Corner_Bet'] = df_Final['Corner_Home'] + df_Final['Corner_Away']\n",
    "\n",
    "df_Final.head()"
   ]
  },
  {
   "cell_type": "markdown",
   "id": "d201467d",
   "metadata": {},
   "source": [
    "# Multiplas Bet"
   ]
  },
  {
   "cell_type": "code",
   "execution_count": null,
   "id": "231ff8b3",
   "metadata": {},
   "outputs": [],
   "source": [
    "Multiplas = df_Final[['League','Round','Home','Away','Corner_Bet']]\n",
    "Multiplas"
   ]
  },
  {
   "cell_type": "markdown",
   "id": "d57ccc9b",
   "metadata": {},
   "source": [
    "# Export to Excel"
   ]
  },
  {
   "cell_type": "code",
   "execution_count": null,
   "id": "3141f980",
   "metadata": {},
   "outputs": [],
   "source": [
    "output_excel_path = 'Multiplas_Betx.xlsx'\n",
    "\n",
    "# Save DataFrames to separate sheets in the same Excel file\n",
    "try:\n",
    "    with pd.ExcelWriter(output_excel_path) as writer:\n",
    "        Multiplas.to_excel(writer, sheet_name='Multiplas', index=False)\n",
    "    print(f\"DataFrames saved to '{output_excel_path}'\")\n",
    "except Exception as e:\n",
    "    print(f\"Error saving the file: {e}\")"
   ]
  }
 ],
 "metadata": {
  "kernelspec": {
   "display_name": "Python 3 (ipykernel)",
   "language": "python",
   "name": "python3"
  },
  "language_info": {
   "codemirror_mode": {
    "name": "ipython",
    "version": 3
   },
   "file_extension": ".py",
   "mimetype": "text/x-python",
   "name": "python",
   "nbconvert_exporter": "python",
   "pygments_lexer": "ipython3",
   "version": "3.9.16"
  },
  "toc": {
   "base_numbering": 1,
   "nav_menu": {},
   "number_sections": true,
   "sideBar": true,
   "skip_h1_title": false,
   "title_cell": "Table of Contents",
   "title_sidebar": "Contents",
   "toc_cell": false,
   "toc_position": {},
   "toc_section_display": true,
   "toc_window_display": false
  },
  "varInspector": {
   "cols": {
    "lenName": 16,
    "lenType": 16,
    "lenVar": 40
   },
   "kernels_config": {
    "python": {
     "delete_cmd_postfix": "",
     "delete_cmd_prefix": "del ",
     "library": "var_list.py",
     "varRefreshCmd": "print(var_dic_list())"
    },
    "r": {
     "delete_cmd_postfix": ") ",
     "delete_cmd_prefix": "rm(",
     "library": "var_list.r",
     "varRefreshCmd": "cat(var_dic_list()) "
    }
   },
   "types_to_exclude": [
    "module",
    "function",
    "builtin_function_or_method",
    "instance",
    "_Feature"
   ],
   "window_display": false
  }
 },
 "nbformat": 4,
 "nbformat_minor": 5
}
