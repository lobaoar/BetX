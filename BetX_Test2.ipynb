{
 "cells": [
  {
   "cell_type": "code",
   "execution_count": null,
   "id": "37ee76b7",
   "metadata": {},
   "outputs": [],
   "source": [
    "import pandas as pd\n",
    "import warnings\n",
    "import ipywidgets as widgets\n",
    "from IPython.display import display\n",
    "warnings.filterwarnings('ignore')"
   ]
  },
  {
   "cell_type": "code",
   "execution_count": null,
   "id": "004a350e",
   "metadata": {},
   "outputs": [],
   "source": [
    "# URL of the Excel file on GitHub\n",
    "github_url = 'https://github.com/futpythontrader/YouTube/raw/main/Bases_de_Dados_(2022-2024)/Brazil%20Serie%20A_2023.xlsx'\n",
    "\n",
    "# Specify the engine as 'openpyxl'\n",
    "try:\n",
    "    df = pd.read_excel(github_url, engine='openpyxl')\n",
    "    print(df)\n",
    "except Exception as e:\n",
    "    print(f\"Error reading the file: {e}\")\n"
   ]
  },
  {
   "cell_type": "code",
   "execution_count": null,
   "id": "cb7ae0a5",
   "metadata": {},
   "outputs": [],
   "source": [
    "Brazil_Hist = pd.concat([df])\n",
    "# setting pandas print options\n",
    "pd.set_option('display.max_rows', 500)\n",
    "pd.set_option('display.max_columns', 500)\n",
    "pd.set_option('display.width', 1000)\n",
    "pd.set_option('display.max_colwidth', 100)\n",
    "Brazil_Hist.tail()"
   ]
  },
  {
   "cell_type": "code",
   "execution_count": null,
   "id": "d075b906",
   "metadata": {
    "scrolled": true
   },
   "outputs": [],
   "source": [
    "df = Brazil_Hist[Brazil_Hist.Season == 2023]\n",
    "df.head()"
   ]
  },
  {
   "cell_type": "code",
   "execution_count": null,
   "id": "0e6c09fc",
   "metadata": {},
   "outputs": [],
   "source": [
    "df = df[['Id_Jogo', 'Season','Home','Away','FT_Corners_H','FT_Corners_A','FT_TotalCorners']]\n",
    "df.columns = ['Id_Jogo','Temporada','Home','Away','FT_Cantos_H','FT_Cantos_A','FT_Cantos_Total']\n",
    "df.dropna(inplace = True)\n",
    "# Ajustando o Índice\n",
    "df.reset_index(inplace=True, drop=True)\n",
    "df.index = df.index.set_names(['Nº'])\n",
    "df = df.rename(index=lambda x: x + 1)\n",
    "df"
   ]
  },
  {
   "cell_type": "code",
   "execution_count": null,
   "id": "e7c41301",
   "metadata": {},
   "outputs": [],
   "source": [
    "df_FT = df[['Id_Jogo','Home','Away','FT_Cantos_H','FT_Cantos_A','FT_Cantos_Total']]\n",
    "\n",
    "# Média\n",
    "df_FT['Media_Cantos_Marcados_Home'] = df_FT.groupby('Home')['FT_Cantos_H'].rolling(window=5, min_periods=1).mean().reset_index(0,drop=True)\n",
    "df_FT['Media_Cantos_Sofridos_Home'] = df_FT.groupby('Home')['FT_Cantos_A'].rolling(window=5, min_periods=1).mean().reset_index(0,drop=True)\n",
    "df_FT['Media_Cantos_Total_Home'] = df_FT.groupby('Home')['FT_Cantos_Total'].rolling(window=5, min_periods=1).mean().reset_index(0,drop=True)\n",
    "\n",
    "# Desvio Padrão\n",
    "df_FT['DesvP_Cantos_Marcados_Home'] = df_FT.groupby('Home')['FT_Cantos_H'].rolling(window=5, min_periods=1).std().reset_index(0,drop=True)\n",
    "df_FT['DesvP_Cantos_Sofridos_Home'] = df_FT.groupby('Home')['FT_Cantos_A'].rolling(window=5, min_periods=1).std().reset_index(0,drop=True)\n",
    "df_FT['DesvP_Cantos_Total_Home'] = df_FT.groupby('Home')['FT_Cantos_Total'].rolling(window=5, min_periods=1).std().reset_index(0,drop=True)\n",
    "\n",
    "# Coeficiente de Variação\n",
    "df_FT['CV_Cantos_Marcados_Home'] = df_FT['DesvP_Cantos_Marcados_Home'] / df_FT['Media_Cantos_Marcados_Home']\n",
    "df_FT['CV_Cantos_Sofridos_Home'] = df_FT['DesvP_Cantos_Sofridos_Home'] / df_FT['Media_Cantos_Sofridos_Home']\n",
    "df_FT['CV_Cantos_Total_Home'] = df_FT['DesvP_Cantos_Total_Home'] / df_FT['Media_Cantos_Total_Home']\n",
    "\n",
    "# Média\n",
    "df_FT['Media_Cantos_Marcados_Away'] = df_FT.groupby('Away')['FT_Cantos_A'].rolling(window=5, min_periods=1).mean().reset_index(0,drop=True)\n",
    "df_FT['Media_Cantos_Sofridos_Away'] = df_FT.groupby('Away')['FT_Cantos_H'].rolling(window=5, min_periods=1).mean().reset_index(0,drop=True)\n",
    "df_FT['Media_Cantos_Total_Away'] = df_FT.groupby('Away')['FT_Cantos_Total'].rolling(window=5, min_periods=1).mean().reset_index(0,drop=True)\n",
    "\n",
    "# Desvio Padrão\n",
    "df_FT['DesvP_Cantos_Marcados_Away'] = df_FT.groupby('Away')['FT_Cantos_A'].rolling(window=5, min_periods=1).std().reset_index(0,drop=True)\n",
    "df_FT['DesvP_Cantos_Sofridos_Away'] = df_FT.groupby('Away')['FT_Cantos_H'].rolling(window=5, min_periods=1).std().reset_index(0,drop=True)\n",
    "df_FT['DesvP_Cantos_Total_Away'] = df_FT.groupby('Away')['FT_Cantos_Total'].rolling(window=5, min_periods=1).std().reset_index(0,drop=True)\n",
    "\n",
    "# Coeficiente de Variação\n",
    "df_FT['CV_Cantos_Marcados_Away'] = df_FT['DesvP_Cantos_Marcados_Away'] / df_FT['Media_Cantos_Marcados_Away']\n",
    "df_FT['CV_Cantos_Sofridos_Away'] = df_FT['DesvP_Cantos_Sofridos_Away'] / df_FT['Media_Cantos_Sofridos_Away']\n",
    "df_FT['CV_Cantos_Total_Away'] = df_FT['DesvP_Cantos_Total_Away'] / df_FT['Media_Cantos_Total_Away']"
   ]
  },
  {
   "cell_type": "code",
   "execution_count": null,
   "id": "a7c47136",
   "metadata": {},
   "outputs": [],
   "source": [
    "df_FT = df_FT[['Id_Jogo','Home','Away','FT_Cantos_H','FT_Cantos_A','FT_Cantos_Total',\n",
    " 'Media_Cantos_Marcados_Home','CV_Cantos_Marcados_Home','Media_Cantos_Sofridos_Home','CV_Cantos_Sofridos_Home',\n",
    " 'Media_Cantos_Total_Home','CV_Cantos_Total_Home',\n",
    " 'Media_Cantos_Marcados_Away','CV_Cantos_Marcados_Away','Media_Cantos_Sofridos_Away','CV_Cantos_Sofridos_Away',\n",
    " 'Media_Cantos_Total_Away','CV_Cantos_Total_Away']]\n",
    "df_FT"
   ]
  },
  {
   "cell_type": "code",
   "execution_count": null,
   "id": "36be2e38",
   "metadata": {},
   "outputs": [],
   "source": [
    "df_FT.dropna(inplace = True)\n",
    "# Ajustando o Índice\n",
    "df_FT.reset_index(inplace=True, drop=True)\n",
    "df_FT.index = df_FT.index.set_names(['Nº'])\n",
    "df_FT = df_FT.rename(index=lambda x: x + 1)\n",
    "df_FT"
   ]
  },
  {
   "cell_type": "code",
   "execution_count": null,
   "id": "0c03b2a7",
   "metadata": {},
   "outputs": [],
   "source": [
    "df_FT_Home = df_FT[['Home','Media_Cantos_Marcados_Home','CV_Cantos_Marcados_Home',\n",
    "                    'Media_Cantos_Sofridos_Home','CV_Cantos_Sofridos_Home',\n",
    "                    'Media_Cantos_Total_Home','CV_Cantos_Total_Home']]\n",
    "df_FT_Home = df_FT_Home.groupby('Home').tail(1)\n",
    "df_FT_Home = df_FT_Home.sort_values(by=['Home'])\n",
    "df_FT_Home.reset_index(inplace=True, drop=True)\n",
    "df_FT_Home.index = df_FT_Home.index.set_names(['Nº'])\n",
    "df_FT_Home = df_FT_Home.rename(index=lambda x: x + 1)\n",
    "df_FT_Home"
   ]
  },
  {
   "cell_type": "code",
   "execution_count": null,
   "id": "4b4e57e0",
   "metadata": {},
   "outputs": [],
   "source": [
    "df_FT_Away = df_FT[['Away','Media_Cantos_Marcados_Away','CV_Cantos_Marcados_Away',\n",
    "                    'Media_Cantos_Sofridos_Away','CV_Cantos_Sofridos_Away',\n",
    "                    'Media_Cantos_Total_Away','CV_Cantos_Total_Away']]\n",
    "df_FT_Away = df_FT_Away.groupby('Away').tail(1)\n",
    "df_FT_Away = df_FT_Away.sort_values(by=['Away'])\n",
    "df_FT_Away.reset_index(inplace=True, drop=True)\n",
    "df_FT_Away.index = df_FT_Away.index.set_names(['Nº'])\n",
    "df_FT_Away = df_FT_Away.rename(index=lambda x: x + 1)\n",
    "df_FT_Away"
   ]
  },
  {
   "cell_type": "code",
   "execution_count": null,
   "id": "a74af080",
   "metadata": {},
   "outputs": [],
   "source": [
    "Brasil_Games = \"https://github.com/lobaoar/BetX/raw/main/Brasileirao_SerieA.xlsx\"\n",
    "\n",
    "\n",
    "# Read the Excel file from the URL\n",
    "Games = pd.read_excel(Brasil_Games)\n",
    "\n",
    "# Display the DataFrame\n",
    "Games.head()"
   ]
  },
  {
   "cell_type": "code",
   "execution_count": null,
   "id": "2e88ddfb",
   "metadata": {},
   "outputs": [],
   "source": [
    "Round_Input = input(\"Please enter the number of the next round: \")\n",
    "Round_Input = int(Round_Input)\n",
    "# Display the user input\n",
    "print(\"Round\", Round_Input)\n",
    "df_round = Games[Games.Round == Round_Input]\n",
    "df_round.head()"
   ]
  },
  {
   "cell_type": "code",
   "execution_count": null,
   "id": "8ac39967",
   "metadata": {},
   "outputs": [],
   "source": [
    "merged_df_Home = df_round.merge(df_FT_Home, on='Home', how='inner')\n",
    "merged_df_Home = merged_df_Home[['Round','Home','Media_Cantos_Marcados_Home',\n",
    "                               'CV_Cantos_Marcados_Home','Media_Cantos_Sofridos_Home',\n",
    "                               'CV_Cantos_Sofridos_Home']]\n",
    "merged_df_Home.head()"
   ]
  },
  {
   "cell_type": "code",
   "execution_count": null,
   "id": "1ffeadab",
   "metadata": {},
   "outputs": [],
   "source": [
    "merged_df_Away = df_round.merge(df_FT_Away, on='Away', how='inner')\n",
    "merged_df_Away = merged_df_Away[['Round','Away','Media_Cantos_Marcados_Away',\n",
    "                                 'CV_Cantos_Marcados_Away','Media_Cantos_Sofridos_Away',\n",
    "                                 'CV_Cantos_Sofridos_Away'\n",
    "]]\n",
    "merged_df_Away.head()"
   ]
  },
  {
   "cell_type": "code",
   "execution_count": null,
   "id": "41b9404d",
   "metadata": {},
   "outputs": [],
   "source": [
    "merged_df = df_round.merge(df_FT_Away, on='Away').merge(df_FT_Home, on='Home')\n",
    "merged_df = merged_df[['Round','Home','Media_Cantos_Marcados_Home',\n",
    "                               'CV_Cantos_Marcados_Home','Media_Cantos_Sofridos_Home',\n",
    "                               'CV_Cantos_Sofridos_Home','Away','Media_Cantos_Marcados_Away',\n",
    "                                 'CV_Cantos_Marcados_Away','Media_Cantos_Sofridos_Away',\n",
    "                                 'CV_Cantos_Sofridos_Away'\n",
    "]]\n",
    "merged_df.head()"
   ]
  },
  {
   "cell_type": "code",
   "execution_count": null,
   "id": "54569e18",
   "metadata": {},
   "outputs": [],
   "source": [
    "df_Final = merged_df[(merged_df.CV_Cantos_Marcados_Home <= 0.5) & (merged_df.CV_Cantos_Marcados_Away <= 0.5)]\n",
    "df_Final"
   ]
  },
  {
   "cell_type": "code",
   "execution_count": null,
   "id": "7fbe7b22",
   "metadata": {},
   "outputs": [],
   "source": []
  },
  {
   "cell_type": "code",
   "execution_count": null,
   "id": "9646eba0",
   "metadata": {},
   "outputs": [],
   "source": [
    "output_excel_path = 'Betx.xlsx'\n",
    "\n",
    "# Save DataFrames to separate sheets in the same Excel file\n",
    "try:\n",
    "    with pd.ExcelWriter(output_excel_path) as writer:\n",
    "        df_FT_Away.to_excel(writer, sheet_name='df_FT_Away', index=False)\n",
    "        df_FT_Home.to_excel(writer, sheet_name='df_FT_Home', index=False)\n",
    "    print(f\"DataFrames saved to '{output_excel_path}'\")\n",
    "except Exception as e:\n",
    "    print(f\"Error saving the file: {e}\")"
   ]
  }
 ],
 "metadata": {
  "kernelspec": {
   "display_name": "Python 3 (ipykernel)",
   "language": "python",
   "name": "python3"
  },
  "language_info": {
   "codemirror_mode": {
    "name": "ipython",
    "version": 3
   },
   "file_extension": ".py",
   "mimetype": "text/x-python",
   "name": "python",
   "nbconvert_exporter": "python",
   "pygments_lexer": "ipython3",
   "version": "3.9.16"
  },
  "toc": {
   "base_numbering": 1,
   "nav_menu": {},
   "number_sections": true,
   "sideBar": true,
   "skip_h1_title": false,
   "title_cell": "Table of Contents",
   "title_sidebar": "Contents",
   "toc_cell": false,
   "toc_position": {},
   "toc_section_display": true,
   "toc_window_display": false
  },
  "varInspector": {
   "cols": {
    "lenName": 16,
    "lenType": 16,
    "lenVar": 40
   },
   "kernels_config": {
    "python": {
     "delete_cmd_postfix": "",
     "delete_cmd_prefix": "del ",
     "library": "var_list.py",
     "varRefreshCmd": "print(var_dic_list())"
    },
    "r": {
     "delete_cmd_postfix": ") ",
     "delete_cmd_prefix": "rm(",
     "library": "var_list.r",
     "varRefreshCmd": "cat(var_dic_list()) "
    }
   },
   "types_to_exclude": [
    "module",
    "function",
    "builtin_function_or_method",
    "instance",
    "_Feature"
   ],
   "window_display": false
  }
 },
 "nbformat": 4,
 "nbformat_minor": 5
}
